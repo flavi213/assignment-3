{
 "cells": [
  {
   "cell_type": "code",
   "execution_count": null,
   "metadata": {},
   "outputs": [],
   "source": [
    "def read_fasta(file_path):\n",
    "    \"\"\"Reads a FASTA file and returns the sequences as a tuple.\"\"\"\n",
    "    with open(file_path, 'r') as file:\n",
    "        lines = file.read().strip().split('>')\n",
    "        sequences = []\n",
    "        for line in lines:\n",
    "            if line:\n",
    "                parts = line.split('\\n')\n",
    "                sequences.append(''.join(parts[1:]))\n",
    "        return tuple(sequences)\n",
    "\n",
    "def longest_common_subsequence(s, t):\n",
    "    m, n = len(s), len(t)\n",
    "    dp = [[0] * (n + 1) for _ in range(m + 1)]\n",
    "    \n",
    "    # Fill DP table\n",
    "    for i in range(1, m + 1):\n",
    "        for j in range(1, n + 1):\n",
    "            if s[i - 1] == t[j - 1]:\n",
    "                dp[i][j] = dp[i - 1][j - 1] + 1\n",
    "            else:\n",
    "                dp[i][j] = max(dp[i - 1][j], dp[i][j - 1])\n",
    "    \n",
    "    # Backtrack to find the LCS\n",
    "    i, j = m, n\n",
    "    lcs = []\n",
    "    while i > 0 and j > 0:\n",
    "        if s[i - 1] == t[j - 1]:\n",
    "            lcs.append(s[i - 1])\n",
    "            i -= 1\n",
    "            j -= 1\n",
    "        elif dp[i - 1][j] > dp[i][j - 1]:\n",
    "            i -= 1\n",
    "        else:\n",
    "            j -= 1\n",
    "    \n",
    "    return ''.join(reversed(lcs))\n",
    "\n",
    "# Main execution\n",
    "input_file = 'input.txt'  # Input file in FASTA format\n",
    "s, t = read_fasta(input_file)\n",
    "lcs = longest_common_subsequence(s, t)\n",
    "\n",
    "# Output the result\n",
    "print(lcs)"
   ]
  }
 ],
 "metadata": {
  "language_info": {
   "name": "python"
  }
 },
 "nbformat": 4,
 "nbformat_minor": 2
}
