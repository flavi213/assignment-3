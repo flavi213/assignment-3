{
 "cells": [
  {
   "cell_type": "code",
   "execution_count": null,
   "metadata": {},
   "outputs": [],
   "source": [
    "ef read_fasta(file_path):\n",
    "    \"\"\"Reads a FASTA file and returns the sequences as a tuple.\"\"\"\n",
    "    with open(file_path, 'r') as file:\n",
    "        lines = file.read().strip().split('>')\n",
    "        sequences = []\n",
    "        for line in lines:\n",
    "            if line:\n",
    "                parts = line.split('\\n')\n",
    "                sequences.append(''.join(parts[1:]))\n",
    "        return tuple(sequences)\n",
    "\n",
    "def find_subsequence_indices(s, t):\n",
    "    \"\"\"Finds one set of indices where t is a subsequence of s.\"\"\"\n",
    "    indices = []\n",
    "    t_pointer = 0  # Pointer for string t\n",
    "    \n",
    "    for i, char in enumerate(s):\n",
    "        # Match the current character of t with s\n",
    "        if t_pointer < len(t) and char == t[t_pointer]:\n",
    "            indices.append(i + 1)  # Store the 1-based index of the match\n",
    "            t_pointer += 1  # Advance t's pointer\n",
    "        \n",
    "        # If we have matched the entire t, we are done\n",
    "        if t_pointer == len(t):\n",
    "            break\n",
    "    \n",
    "    return indices\n",
    "\n",
    "# Main execution\n",
    "input_file = 'input.txt'  # Input file in FASTA format\n",
    "s, t = read_fasta(input_file)\n",
    "indices = find_subsequence_indices(s, t)\n",
    "\n",
    "# Output the result\n",
    "print(\" \".join(map(str, indices)))"
   ]
  }
 ],
 "metadata": {
  "language_info": {
   "name": "python"
  }
 },
 "nbformat": 4,
 "nbformat_minor": 2
}
