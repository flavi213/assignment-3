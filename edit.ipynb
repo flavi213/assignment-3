{
 "cells": [
  {
   "cell_type": "code",
   "execution_count": null,
   "metadata": {},
   "outputs": [],
   "source": [
    "def edit_distance(s, t):\n",
    "    # Create a 2D DP table with (len(s)+1) rows and (len(t)+1) columns\n",
    "    dp = [[0] * (len(t) + 1) for _ in range(len(s) + 1)]\n",
    "\n",
    "    # Initialize the DP table\n",
    "    for i in range(len(s) + 1):\n",
    "        for j in range(len(t) + 1):\n",
    "            if i == 0:\n",
    "                dp[i][j] = j  # Need j insertions to convert \"\" to t[:j]\n",
    "            elif j == 0:\n",
    "                dp[i][j] = i  # Need i deletions to convert s[:i] to \"\"\n",
    "            else:\n",
    "                # If characters are the same, no edit needed, take the diagonal value\n",
    "                if s[i - 1] == t[j - 1]:\n",
    "                    dp[i][j] = dp[i - 1][j - 1]\n",
    "                else:\n",
    "                    # Otherwise, consider the minimum of insert, delete, or substitute\n",
    "                    dp[i][j] = min(dp[i - 1][j] + 1,   # Deletion\n",
    "                                   dp[i][j - 1] + 1,   # Insertion\n",
    "                                   dp[i - 1][j - 1] + 1) # Substitution\n",
    "\n",
    "    # The value at dp[len(s)][len(t)] gives the edit distance\n",
    "    return dp[len(s)][len(t)]\n",
    "\n",
    "def read_input(file_path):\n",
    "    # Reads the FASTA format input file\n",
    "    with open(file_path, 'r') as file:\n",
    "        lines = file.readlines()\n",
    "        s = lines[1].strip()  # The second line is the string s\n",
    "        t = lines[3].strip()  # The fourth line is the string t\n",
    "    return s, t\n",
    "\n",
    "def solve():\n",
    "    input_file = 'input.txt'  # Path to the input file\n",
    "\n",
    "    # Read the sequences from the input file\n",
    "    s, t = read_input(input_file)\n",
    "\n",
    "    # Find the edit distance\n",
    "    result = edit_distance(s, t)\n",
    "\n",
    "    # Output the edit distance\n",
    "    print(result)\n",
    "\n",
    "# Run the solution\n",
    "solve()\n"
   ]
  }
 ],
 "metadata": {
  "kernelspec": {
   "display_name": "Python 3",
   "language": "python",
   "name": "python3"
  },
  "language_info": {
   "codemirror_mode": {
    "name": "ipython",
    "version": 3
   },
   "file_extension": ".py",
   "mimetype": "text/x-python",
   "name": "python",
   "nbconvert_exporter": "python",
   "pygments_lexer": "ipython3",
   "version": "3.11.9"
  }
 },
 "nbformat": 4,
 "nbformat_minor": 2
}
